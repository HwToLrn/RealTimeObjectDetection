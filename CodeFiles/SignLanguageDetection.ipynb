{
 "cells": [
  {
   "cell_type": "markdown",
   "id": "2c0f68f7",
   "metadata": {},
   "source": [
    "Video Link I referred\n",
    " - https://www.youtube.com/watch?v=pDXdlXlaCco"
   ]
  },
  {
   "cell_type": "code",
   "execution_count": 1,
   "id": "c02d6112",
   "metadata": {
    "ExecuteTime": {
     "end_time": "2021-10-06T10:41:10.120497Z",
     "start_time": "2021-10-06T10:41:10.087422Z"
    }
   },
   "outputs": [],
   "source": [
    "import cv2\n",
    "import os\n",
    "import time\n",
    "import uuid"
   ]
  },
  {
   "cell_type": "code",
   "execution_count": 2,
   "id": "06ae52db",
   "metadata": {
    "ExecuteTime": {
     "end_time": "2021-10-06T10:41:10.386348Z",
     "start_time": "2021-10-06T10:41:10.372761Z"
    }
   },
   "outputs": [],
   "source": [
    "IMAGE_PATH = '../Tensorflow/workspace/images/collectedimages'"
   ]
  },
  {
   "cell_type": "code",
   "execution_count": 3,
   "id": "2909ae5c",
   "metadata": {
    "ExecuteTime": {
     "end_time": "2021-10-06T10:41:10.666255Z",
     "start_time": "2021-10-06T10:41:10.660288Z"
    }
   },
   "outputs": [],
   "source": [
    "labels = ['hello', 'thanks', 'yes', 'no', 'iloveyou']\n",
    "number_imgs = 50"
   ]
  },
  {
   "cell_type": "code",
   "execution_count": 11,
   "id": "6e648dea",
   "metadata": {
    "ExecuteTime": {
     "end_time": "2021-10-06T10:33:30.507869Z",
     "start_time": "2021-10-06T10:33:30.502881Z"
    }
   },
   "outputs": [
    {
     "data": {
      "text/plain": [
       "'Tensorflow/workspace/images/collectedimages\\\\hello\\\\hello_d95534ca-2690-11ec-bd4a-bc542f831b6f.jpg'"
      ]
     },
     "execution_count": 11,
     "metadata": {},
     "output_type": "execute_result"
    }
   ],
   "source": [
    "os.path.join(IMAGE_PATH, labels[0], labels[0]+f'_{uuid.uuid1()}.jpg')"
   ]
  },
  {
   "cell_type": "code",
   "execution_count": 5,
   "id": "ed5de4f3",
   "metadata": {
    "ExecuteTime": {
     "end_time": "2021-10-06T10:43:42.693200Z",
     "start_time": "2021-10-06T10:43:32.726517Z"
    }
   },
   "outputs": [
    {
     "name": "stdout",
     "output_type": "stream",
     "text": [
      "Collecting images for no\n"
     ]
    }
   ],
   "source": [
    "for label in ['no']:\n",
    "    os.makedirs(os.path.join(IMAGE_PATH, label), exist_ok=True)\n",
    "    capture = cv2.VideoCapture(0)\n",
    "    print(f'Collecting images for {label}')\n",
    "    time.sleep(3)\n",
    "    for imgnum in range(number_imgs):\n",
    "        checkframe, frame = capture.read()\n",
    "        img_name = os.path.join(IMAGE_PATH, label, label+f'.{uuid.uuid1()}.jpg')\n",
    "        cv2.imwrite(filename=img_name, img=frame)\n",
    "        cv2.imshow(winname='MyWindow', mat=frame)\n",
    "        if (imgnum+1) % 10 == 0:\n",
    "            time.sleep(1)\n",
    "        \n",
    "        if cv2.waitKey(1) & 0xFF == 27:\n",
    "            break\n",
    "    capture.release()\n",
    "    cv2.destroyAllWindows()"
   ]
  },
  {
   "cell_type": "code",
   "execution_count": null,
   "id": "a5797d6b",
   "metadata": {},
   "outputs": [],
   "source": []
  }
 ],
 "metadata": {
  "kernelspec": {
   "display_name": "vproject_venv",
   "language": "python",
   "name": "vproject_venv"
  },
  "language_info": {
   "codemirror_mode": {
    "name": "ipython",
    "version": 3
   },
   "file_extension": ".py",
   "mimetype": "text/x-python",
   "name": "python",
   "nbconvert_exporter": "python",
   "pygments_lexer": "ipython3",
   "version": "3.9.5"
  },
  "toc": {
   "base_numbering": 1,
   "nav_menu": {},
   "number_sections": true,
   "sideBar": true,
   "skip_h1_title": false,
   "title_cell": "Table of Contents",
   "title_sidebar": "Contents",
   "toc_cell": false,
   "toc_position": {},
   "toc_section_display": true,
   "toc_window_display": false
  },
  "varInspector": {
   "cols": {
    "lenName": 16,
    "lenType": 16,
    "lenVar": 40
   },
   "kernels_config": {
    "python": {
     "delete_cmd_postfix": "",
     "delete_cmd_prefix": "del ",
     "library": "var_list.py",
     "varRefreshCmd": "print(var_dic_list())"
    },
    "r": {
     "delete_cmd_postfix": ") ",
     "delete_cmd_prefix": "rm(",
     "library": "var_list.r",
     "varRefreshCmd": "cat(var_dic_list()) "
    }
   },
   "types_to_exclude": [
    "module",
    "function",
    "builtin_function_or_method",
    "instance",
    "_Feature"
   ],
   "window_display": false
  }
 },
 "nbformat": 4,
 "nbformat_minor": 5
}
